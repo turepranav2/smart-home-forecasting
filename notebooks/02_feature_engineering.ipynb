{
 "cells": [
  {
   "cell_type": "markdown",
   "metadata": {},
   "source": [
    "# Smart Home Appliance Usage Forecasting\n",
    "## 02 - Feature Engineering\n",
    "\n",
    "This notebook creates new features from the IoT appliance usage data to improve forecasting models."
   ]
  },
  {
   "cell_type": "code",
   "execution_count": 121,
   "metadata": {},
   "outputs": [],
   "source": [
    "# Imports\n",
    "import pandas as pd\n",
    "import numpy as np\n",
    "import os\n",
    "os.makedirs('../data/external', exist_ok=True)"
   ]
  },
  {
   "cell_type": "markdown",
   "metadata": {},
   "source": [
    "## Load Data"
   ]
  },
  {
   "cell_type": "code",
   "execution_count": 122,
   "metadata": {},
   "outputs": [
    {
     "data": {
      "text/html": [
       "<div>\n",
       "<style scoped>\n",
       "    .dataframe tbody tr th:only-of-type {\n",
       "        vertical-align: middle;\n",
       "    }\n",
       "\n",
       "    .dataframe tbody tr th {\n",
       "        vertical-align: top;\n",
       "    }\n",
       "\n",
       "    .dataframe thead th {\n",
       "        text-align: right;\n",
       "    }\n",
       "</style>\n",
       "<table border=\"1\" class=\"dataframe\">\n",
       "  <thead>\n",
       "    <tr style=\"text-align: right;\">\n",
       "      <th></th>\n",
       "      <th>timestamp</th>\n",
       "      <th>appliance_id</th>\n",
       "      <th>appliance_name</th>\n",
       "      <th>usage</th>\n",
       "      <th>user_id</th>\n",
       "    </tr>\n",
       "  </thead>\n",
       "  <tbody>\n",
       "    <tr>\n",
       "      <th>0</th>\n",
       "      <td>2025-05-29 23:35:52.423050</td>\n",
       "      <td>1</td>\n",
       "      <td>Air Conditioner</td>\n",
       "      <td>0.874</td>\n",
       "      <td>101</td>\n",
       "    </tr>\n",
       "    <tr>\n",
       "      <th>37453</th>\n",
       "      <td>2025-05-29 23:35:52.423050</td>\n",
       "      <td>3</td>\n",
       "      <td>Refrigerator</td>\n",
       "      <td>0.079</td>\n",
       "      <td>104</td>\n",
       "    </tr>\n",
       "    <tr>\n",
       "      <th>5762</th>\n",
       "      <td>2025-05-29 23:35:52.423050</td>\n",
       "      <td>1</td>\n",
       "      <td>Air Conditioner</td>\n",
       "      <td>0.739</td>\n",
       "      <td>103</td>\n",
       "    </tr>\n",
       "    <tr>\n",
       "      <th>31691</th>\n",
       "      <td>2025-05-29 23:35:52.423050</td>\n",
       "      <td>3</td>\n",
       "      <td>Refrigerator</td>\n",
       "      <td>0.062</td>\n",
       "      <td>102</td>\n",
       "    </tr>\n",
       "    <tr>\n",
       "      <th>11524</th>\n",
       "      <td>2025-05-29 23:35:52.423050</td>\n",
       "      <td>1</td>\n",
       "      <td>Air Conditioner</td>\n",
       "      <td>0.775</td>\n",
       "      <td>105</td>\n",
       "    </tr>\n",
       "  </tbody>\n",
       "</table>\n",
       "</div>"
      ],
      "text/plain": [
       "                       timestamp  appliance_id   appliance_name  usage  \\\n",
       "0     2025-05-29 23:35:52.423050             1  Air Conditioner  0.874   \n",
       "37453 2025-05-29 23:35:52.423050             3     Refrigerator  0.079   \n",
       "5762  2025-05-29 23:35:52.423050             1  Air Conditioner  0.739   \n",
       "31691 2025-05-29 23:35:52.423050             3     Refrigerator  0.062   \n",
       "11524 2025-05-29 23:35:52.423050             1  Air Conditioner  0.775   \n",
       "\n",
       "       user_id  \n",
       "0          101  \n",
       "37453      104  \n",
       "5762       103  \n",
       "31691      102  \n",
       "11524      105  "
      ]
     },
     "execution_count": 122,
     "metadata": {},
     "output_type": "execute_result"
    }
   ],
   "source": [
    "df = pd.read_csv('../data/raw/synthetic_iot_logs.csv', parse_dates=['timestamp'])\n",
    "df = df.sort_values('timestamp')\n",
    "df.head()"
   ]
  },
  {
   "cell_type": "code",
   "execution_count": 123,
   "metadata": {},
   "outputs": [
    {
     "name": "stdout",
     "output_type": "stream",
     "text": [
      "Weather data merged. Columns now: Index(['timestamp', 'appliance_id', 'appliance_name', 'usage', 'user_id',\n",
      "       'date', 'temp', 'temp_min', 'temp_max', 'precipitation', 'wind_speed'],\n",
      "      dtype='object')\n"
     ]
    }
   ],
   "source": [
    "# Load weather data if available\n",
    "weather_path = '../data/external/weather_data.csv'\n",
    "if os.path.exists(weather_path):\n",
    "    weather = pd.read_csv(weather_path, parse_dates=['date'])\n",
    "    # If weather has 'dt' or 'timestamp', convert to 'date'\n",
    "    if 'dt' in weather.columns:\n",
    "        weather['date'] = pd.to_datetime(weather['dt']).dt.date\n",
    "    elif 'timestamp' in weather.columns:\n",
    "        weather['date'] = pd.to_datetime(weather['timestamp']).dt.date\n",
    "    else:\n",
    "        weather['date'] = pd.to_datetime(weather['date']).dt.date\n",
    "\n",
    "    # Merge weather with IoT data on date\n",
    "    df['date'] = df['timestamp'].dt.date\n",
    "    df = df.merge(weather, on='date', how='left')\n",
    "    print(\"Weather data merged. Columns now:\", df.columns)\n",
    "else:\n",
    "    print(\"No weather data found at\", weather_path)"
   ]
  },
  {
   "cell_type": "markdown",
   "metadata": {},
   "source": [
    "## Time-based Features"
   ]
  },
  {
   "cell_type": "code",
   "execution_count": 124,
   "metadata": {},
   "outputs": [
    {
     "data": {
      "text/html": [
       "<div>\n",
       "<style scoped>\n",
       "    .dataframe tbody tr th:only-of-type {\n",
       "        vertical-align: middle;\n",
       "    }\n",
       "\n",
       "    .dataframe tbody tr th {\n",
       "        vertical-align: top;\n",
       "    }\n",
       "\n",
       "    .dataframe thead th {\n",
       "        text-align: right;\n",
       "    }\n",
       "</style>\n",
       "<table border=\"1\" class=\"dataframe\">\n",
       "  <thead>\n",
       "    <tr style=\"text-align: right;\">\n",
       "      <th></th>\n",
       "      <th>timestamp</th>\n",
       "      <th>appliance_id</th>\n",
       "      <th>appliance_name</th>\n",
       "      <th>usage</th>\n",
       "      <th>user_id</th>\n",
       "      <th>date</th>\n",
       "      <th>temp</th>\n",
       "      <th>temp_min</th>\n",
       "      <th>temp_max</th>\n",
       "      <th>precipitation</th>\n",
       "      <th>wind_speed</th>\n",
       "      <th>hour</th>\n",
       "      <th>dayofweek</th>\n",
       "      <th>is_weekend</th>\n",
       "      <th>month</th>\n",
       "    </tr>\n",
       "  </thead>\n",
       "  <tbody>\n",
       "    <tr>\n",
       "      <th>0</th>\n",
       "      <td>2025-05-29 23:35:52.423050</td>\n",
       "      <td>1</td>\n",
       "      <td>Air Conditioner</td>\n",
       "      <td>0.874</td>\n",
       "      <td>101</td>\n",
       "      <td>2025-05-29</td>\n",
       "      <td>33.5</td>\n",
       "      <td>29.4</td>\n",
       "      <td>38.7</td>\n",
       "      <td>0.0</td>\n",
       "      <td>6.5</td>\n",
       "      <td>23</td>\n",
       "      <td>3</td>\n",
       "      <td>False</td>\n",
       "      <td>5</td>\n",
       "    </tr>\n",
       "    <tr>\n",
       "      <th>1</th>\n",
       "      <td>2025-05-29 23:35:52.423050</td>\n",
       "      <td>3</td>\n",
       "      <td>Refrigerator</td>\n",
       "      <td>0.079</td>\n",
       "      <td>104</td>\n",
       "      <td>2025-05-29</td>\n",
       "      <td>33.5</td>\n",
       "      <td>29.4</td>\n",
       "      <td>38.7</td>\n",
       "      <td>0.0</td>\n",
       "      <td>6.5</td>\n",
       "      <td>23</td>\n",
       "      <td>3</td>\n",
       "      <td>False</td>\n",
       "      <td>5</td>\n",
       "    </tr>\n",
       "    <tr>\n",
       "      <th>2</th>\n",
       "      <td>2025-05-29 23:35:52.423050</td>\n",
       "      <td>1</td>\n",
       "      <td>Air Conditioner</td>\n",
       "      <td>0.739</td>\n",
       "      <td>103</td>\n",
       "      <td>2025-05-29</td>\n",
       "      <td>33.5</td>\n",
       "      <td>29.4</td>\n",
       "      <td>38.7</td>\n",
       "      <td>0.0</td>\n",
       "      <td>6.5</td>\n",
       "      <td>23</td>\n",
       "      <td>3</td>\n",
       "      <td>False</td>\n",
       "      <td>5</td>\n",
       "    </tr>\n",
       "    <tr>\n",
       "      <th>3</th>\n",
       "      <td>2025-05-29 23:35:52.423050</td>\n",
       "      <td>3</td>\n",
       "      <td>Refrigerator</td>\n",
       "      <td>0.062</td>\n",
       "      <td>102</td>\n",
       "      <td>2025-05-29</td>\n",
       "      <td>33.5</td>\n",
       "      <td>29.4</td>\n",
       "      <td>38.7</td>\n",
       "      <td>0.0</td>\n",
       "      <td>6.5</td>\n",
       "      <td>23</td>\n",
       "      <td>3</td>\n",
       "      <td>False</td>\n",
       "      <td>5</td>\n",
       "    </tr>\n",
       "    <tr>\n",
       "      <th>4</th>\n",
       "      <td>2025-05-29 23:35:52.423050</td>\n",
       "      <td>1</td>\n",
       "      <td>Air Conditioner</td>\n",
       "      <td>0.775</td>\n",
       "      <td>105</td>\n",
       "      <td>2025-05-29</td>\n",
       "      <td>33.5</td>\n",
       "      <td>29.4</td>\n",
       "      <td>38.7</td>\n",
       "      <td>0.0</td>\n",
       "      <td>6.5</td>\n",
       "      <td>23</td>\n",
       "      <td>3</td>\n",
       "      <td>False</td>\n",
       "      <td>5</td>\n",
       "    </tr>\n",
       "  </tbody>\n",
       "</table>\n",
       "</div>"
      ],
      "text/plain": [
       "                   timestamp  appliance_id   appliance_name  usage  user_id  \\\n",
       "0 2025-05-29 23:35:52.423050             1  Air Conditioner  0.874      101   \n",
       "1 2025-05-29 23:35:52.423050             3     Refrigerator  0.079      104   \n",
       "2 2025-05-29 23:35:52.423050             1  Air Conditioner  0.739      103   \n",
       "3 2025-05-29 23:35:52.423050             3     Refrigerator  0.062      102   \n",
       "4 2025-05-29 23:35:52.423050             1  Air Conditioner  0.775      105   \n",
       "\n",
       "         date  temp  temp_min  temp_max  precipitation  wind_speed  hour  \\\n",
       "0  2025-05-29  33.5      29.4      38.7            0.0         6.5    23   \n",
       "1  2025-05-29  33.5      29.4      38.7            0.0         6.5    23   \n",
       "2  2025-05-29  33.5      29.4      38.7            0.0         6.5    23   \n",
       "3  2025-05-29  33.5      29.4      38.7            0.0         6.5    23   \n",
       "4  2025-05-29  33.5      29.4      38.7            0.0         6.5    23   \n",
       "\n",
       "   dayofweek  is_weekend  month  \n",
       "0          3       False      5  \n",
       "1          3       False      5  \n",
       "2          3       False      5  \n",
       "3          3       False      5  \n",
       "4          3       False      5  "
      ]
     },
     "execution_count": 124,
     "metadata": {},
     "output_type": "execute_result"
    }
   ],
   "source": [
    "df['hour'] = df['timestamp'].dt.hour\n",
    "df['dayofweek'] = df['timestamp'].dt.dayofweek\n",
    "df['is_weekend'] = df['dayofweek'] >= 5\n",
    "df['month'] = df['timestamp'].dt.month\n",
    "df.head()"
   ]
  },
  {
   "cell_type": "markdown",
   "metadata": {},
   "source": [
    "## Lag Features (previous usage)"
   ]
  },
  {
   "cell_type": "code",
   "execution_count": 125,
   "metadata": {},
   "outputs": [
    {
     "data": {
      "text/html": [
       "<div>\n",
       "<style scoped>\n",
       "    .dataframe tbody tr th:only-of-type {\n",
       "        vertical-align: middle;\n",
       "    }\n",
       "\n",
       "    .dataframe tbody tr th {\n",
       "        vertical-align: top;\n",
       "    }\n",
       "\n",
       "    .dataframe thead th {\n",
       "        text-align: right;\n",
       "    }\n",
       "</style>\n",
       "<table border=\"1\" class=\"dataframe\">\n",
       "  <thead>\n",
       "    <tr style=\"text-align: right;\">\n",
       "      <th></th>\n",
       "      <th>timestamp</th>\n",
       "      <th>appliance_id</th>\n",
       "      <th>appliance_name</th>\n",
       "      <th>usage</th>\n",
       "      <th>user_id</th>\n",
       "      <th>date</th>\n",
       "      <th>temp</th>\n",
       "      <th>temp_min</th>\n",
       "      <th>temp_max</th>\n",
       "      <th>precipitation</th>\n",
       "      <th>wind_speed</th>\n",
       "      <th>hour</th>\n",
       "      <th>dayofweek</th>\n",
       "      <th>is_weekend</th>\n",
       "      <th>month</th>\n",
       "      <th>usage_lag_1</th>\n",
       "      <th>usage_lag_4</th>\n",
       "      <th>usage_lag_96</th>\n",
       "    </tr>\n",
       "  </thead>\n",
       "  <tbody>\n",
       "    <tr>\n",
       "      <th>0</th>\n",
       "      <td>2025-05-29 23:35:52.423050</td>\n",
       "      <td>1</td>\n",
       "      <td>Air Conditioner</td>\n",
       "      <td>0.874</td>\n",
       "      <td>101</td>\n",
       "      <td>2025-05-29</td>\n",
       "      <td>33.5</td>\n",
       "      <td>29.4</td>\n",
       "      <td>38.7</td>\n",
       "      <td>0.0</td>\n",
       "      <td>6.5</td>\n",
       "      <td>23</td>\n",
       "      <td>3</td>\n",
       "      <td>False</td>\n",
       "      <td>5</td>\n",
       "      <td>NaN</td>\n",
       "      <td>NaN</td>\n",
       "      <td>NaN</td>\n",
       "    </tr>\n",
       "    <tr>\n",
       "      <th>1</th>\n",
       "      <td>2025-05-29 23:35:52.423050</td>\n",
       "      <td>3</td>\n",
       "      <td>Refrigerator</td>\n",
       "      <td>0.079</td>\n",
       "      <td>104</td>\n",
       "      <td>2025-05-29</td>\n",
       "      <td>33.5</td>\n",
       "      <td>29.4</td>\n",
       "      <td>38.7</td>\n",
       "      <td>0.0</td>\n",
       "      <td>6.5</td>\n",
       "      <td>23</td>\n",
       "      <td>3</td>\n",
       "      <td>False</td>\n",
       "      <td>5</td>\n",
       "      <td>NaN</td>\n",
       "      <td>NaN</td>\n",
       "      <td>NaN</td>\n",
       "    </tr>\n",
       "    <tr>\n",
       "      <th>2</th>\n",
       "      <td>2025-05-29 23:35:52.423050</td>\n",
       "      <td>1</td>\n",
       "      <td>Air Conditioner</td>\n",
       "      <td>0.739</td>\n",
       "      <td>103</td>\n",
       "      <td>2025-05-29</td>\n",
       "      <td>33.5</td>\n",
       "      <td>29.4</td>\n",
       "      <td>38.7</td>\n",
       "      <td>0.0</td>\n",
       "      <td>6.5</td>\n",
       "      <td>23</td>\n",
       "      <td>3</td>\n",
       "      <td>False</td>\n",
       "      <td>5</td>\n",
       "      <td>NaN</td>\n",
       "      <td>NaN</td>\n",
       "      <td>NaN</td>\n",
       "    </tr>\n",
       "    <tr>\n",
       "      <th>3</th>\n",
       "      <td>2025-05-29 23:35:52.423050</td>\n",
       "      <td>3</td>\n",
       "      <td>Refrigerator</td>\n",
       "      <td>0.062</td>\n",
       "      <td>102</td>\n",
       "      <td>2025-05-29</td>\n",
       "      <td>33.5</td>\n",
       "      <td>29.4</td>\n",
       "      <td>38.7</td>\n",
       "      <td>0.0</td>\n",
       "      <td>6.5</td>\n",
       "      <td>23</td>\n",
       "      <td>3</td>\n",
       "      <td>False</td>\n",
       "      <td>5</td>\n",
       "      <td>NaN</td>\n",
       "      <td>NaN</td>\n",
       "      <td>NaN</td>\n",
       "    </tr>\n",
       "    <tr>\n",
       "      <th>4</th>\n",
       "      <td>2025-05-29 23:35:52.423050</td>\n",
       "      <td>1</td>\n",
       "      <td>Air Conditioner</td>\n",
       "      <td>0.775</td>\n",
       "      <td>105</td>\n",
       "      <td>2025-05-29</td>\n",
       "      <td>33.5</td>\n",
       "      <td>29.4</td>\n",
       "      <td>38.7</td>\n",
       "      <td>0.0</td>\n",
       "      <td>6.5</td>\n",
       "      <td>23</td>\n",
       "      <td>3</td>\n",
       "      <td>False</td>\n",
       "      <td>5</td>\n",
       "      <td>NaN</td>\n",
       "      <td>NaN</td>\n",
       "      <td>NaN</td>\n",
       "    </tr>\n",
       "    <tr>\n",
       "      <th>5</th>\n",
       "      <td>2025-05-29 23:35:52.423050</td>\n",
       "      <td>2</td>\n",
       "      <td>Washing Machine</td>\n",
       "      <td>0.000</td>\n",
       "      <td>105</td>\n",
       "      <td>2025-05-29</td>\n",
       "      <td>33.5</td>\n",
       "      <td>29.4</td>\n",
       "      <td>38.7</td>\n",
       "      <td>0.0</td>\n",
       "      <td>6.5</td>\n",
       "      <td>23</td>\n",
       "      <td>3</td>\n",
       "      <td>False</td>\n",
       "      <td>5</td>\n",
       "      <td>NaN</td>\n",
       "      <td>NaN</td>\n",
       "      <td>NaN</td>\n",
       "    </tr>\n",
       "    <tr>\n",
       "      <th>6</th>\n",
       "      <td>2025-05-29 23:35:52.423050</td>\n",
       "      <td>2</td>\n",
       "      <td>Washing Machine</td>\n",
       "      <td>0.434</td>\n",
       "      <td>102</td>\n",
       "      <td>2025-05-29</td>\n",
       "      <td>33.5</td>\n",
       "      <td>29.4</td>\n",
       "      <td>38.7</td>\n",
       "      <td>0.0</td>\n",
       "      <td>6.5</td>\n",
       "      <td>23</td>\n",
       "      <td>3</td>\n",
       "      <td>False</td>\n",
       "      <td>5</td>\n",
       "      <td>NaN</td>\n",
       "      <td>NaN</td>\n",
       "      <td>NaN</td>\n",
       "    </tr>\n",
       "    <tr>\n",
       "      <th>7</th>\n",
       "      <td>2025-05-29 23:35:52.423050</td>\n",
       "      <td>2</td>\n",
       "      <td>Washing Machine</td>\n",
       "      <td>0.000</td>\n",
       "      <td>103</td>\n",
       "      <td>2025-05-29</td>\n",
       "      <td>33.5</td>\n",
       "      <td>29.4</td>\n",
       "      <td>38.7</td>\n",
       "      <td>0.0</td>\n",
       "      <td>6.5</td>\n",
       "      <td>23</td>\n",
       "      <td>3</td>\n",
       "      <td>False</td>\n",
       "      <td>5</td>\n",
       "      <td>NaN</td>\n",
       "      <td>NaN</td>\n",
       "      <td>NaN</td>\n",
       "    </tr>\n",
       "    <tr>\n",
       "      <th>8</th>\n",
       "      <td>2025-05-29 23:35:52.423050</td>\n",
       "      <td>2</td>\n",
       "      <td>Washing Machine</td>\n",
       "      <td>0.000</td>\n",
       "      <td>101</td>\n",
       "      <td>2025-05-29</td>\n",
       "      <td>33.5</td>\n",
       "      <td>29.4</td>\n",
       "      <td>38.7</td>\n",
       "      <td>0.0</td>\n",
       "      <td>6.5</td>\n",
       "      <td>23</td>\n",
       "      <td>3</td>\n",
       "      <td>False</td>\n",
       "      <td>5</td>\n",
       "      <td>NaN</td>\n",
       "      <td>NaN</td>\n",
       "      <td>NaN</td>\n",
       "    </tr>\n",
       "    <tr>\n",
       "      <th>9</th>\n",
       "      <td>2025-05-29 23:35:52.423050</td>\n",
       "      <td>3</td>\n",
       "      <td>Refrigerator</td>\n",
       "      <td>0.070</td>\n",
       "      <td>101</td>\n",
       "      <td>2025-05-29</td>\n",
       "      <td>33.5</td>\n",
       "      <td>29.4</td>\n",
       "      <td>38.7</td>\n",
       "      <td>0.0</td>\n",
       "      <td>6.5</td>\n",
       "      <td>23</td>\n",
       "      <td>3</td>\n",
       "      <td>False</td>\n",
       "      <td>5</td>\n",
       "      <td>NaN</td>\n",
       "      <td>NaN</td>\n",
       "      <td>NaN</td>\n",
       "    </tr>\n",
       "  </tbody>\n",
       "</table>\n",
       "</div>"
      ],
      "text/plain": [
       "                   timestamp  appliance_id   appliance_name  usage  user_id  \\\n",
       "0 2025-05-29 23:35:52.423050             1  Air Conditioner  0.874      101   \n",
       "1 2025-05-29 23:35:52.423050             3     Refrigerator  0.079      104   \n",
       "2 2025-05-29 23:35:52.423050             1  Air Conditioner  0.739      103   \n",
       "3 2025-05-29 23:35:52.423050             3     Refrigerator  0.062      102   \n",
       "4 2025-05-29 23:35:52.423050             1  Air Conditioner  0.775      105   \n",
       "5 2025-05-29 23:35:52.423050             2  Washing Machine  0.000      105   \n",
       "6 2025-05-29 23:35:52.423050             2  Washing Machine  0.434      102   \n",
       "7 2025-05-29 23:35:52.423050             2  Washing Machine  0.000      103   \n",
       "8 2025-05-29 23:35:52.423050             2  Washing Machine  0.000      101   \n",
       "9 2025-05-29 23:35:52.423050             3     Refrigerator  0.070      101   \n",
       "\n",
       "         date  temp  temp_min  temp_max  precipitation  wind_speed  hour  \\\n",
       "0  2025-05-29  33.5      29.4      38.7            0.0         6.5    23   \n",
       "1  2025-05-29  33.5      29.4      38.7            0.0         6.5    23   \n",
       "2  2025-05-29  33.5      29.4      38.7            0.0         6.5    23   \n",
       "3  2025-05-29  33.5      29.4      38.7            0.0         6.5    23   \n",
       "4  2025-05-29  33.5      29.4      38.7            0.0         6.5    23   \n",
       "5  2025-05-29  33.5      29.4      38.7            0.0         6.5    23   \n",
       "6  2025-05-29  33.5      29.4      38.7            0.0         6.5    23   \n",
       "7  2025-05-29  33.5      29.4      38.7            0.0         6.5    23   \n",
       "8  2025-05-29  33.5      29.4      38.7            0.0         6.5    23   \n",
       "9  2025-05-29  33.5      29.4      38.7            0.0         6.5    23   \n",
       "\n",
       "   dayofweek  is_weekend  month  usage_lag_1  usage_lag_4  usage_lag_96  \n",
       "0          3       False      5          NaN          NaN           NaN  \n",
       "1          3       False      5          NaN          NaN           NaN  \n",
       "2          3       False      5          NaN          NaN           NaN  \n",
       "3          3       False      5          NaN          NaN           NaN  \n",
       "4          3       False      5          NaN          NaN           NaN  \n",
       "5          3       False      5          NaN          NaN           NaN  \n",
       "6          3       False      5          NaN          NaN           NaN  \n",
       "7          3       False      5          NaN          NaN           NaN  \n",
       "8          3       False      5          NaN          NaN           NaN  \n",
       "9          3       False      5          NaN          NaN           NaN  "
      ]
     },
     "execution_count": 125,
     "metadata": {},
     "output_type": "execute_result"
    }
   ],
   "source": [
    "df['usage_lag_1'] = df.groupby(['appliance_id', 'user_id'])['usage'].shift(1)\n",
    "df['usage_lag_4'] = df.groupby(['appliance_id', 'user_id'])['usage'].shift(4)  # 1 hour ago (4x15min)\n",
    "df['usage_lag_96'] = df.groupby(['appliance_id', 'user_id'])['usage'].shift(96)  # 1 day ago\n",
    "df.head(10)"
   ]
  },
  {
   "cell_type": "markdown",
   "metadata": {},
   "source": [
    "## Rolling Statistics"
   ]
  },
  {
   "cell_type": "code",
   "execution_count": 126,
   "metadata": {},
   "outputs": [
    {
     "data": {
      "text/html": [
       "<div>\n",
       "<style scoped>\n",
       "    .dataframe tbody tr th:only-of-type {\n",
       "        vertical-align: middle;\n",
       "    }\n",
       "\n",
       "    .dataframe tbody tr th {\n",
       "        vertical-align: top;\n",
       "    }\n",
       "\n",
       "    .dataframe thead th {\n",
       "        text-align: right;\n",
       "    }\n",
       "</style>\n",
       "<table border=\"1\" class=\"dataframe\">\n",
       "  <thead>\n",
       "    <tr style=\"text-align: right;\">\n",
       "      <th></th>\n",
       "      <th>timestamp</th>\n",
       "      <th>appliance_id</th>\n",
       "      <th>appliance_name</th>\n",
       "      <th>usage</th>\n",
       "      <th>user_id</th>\n",
       "      <th>date</th>\n",
       "      <th>temp</th>\n",
       "      <th>temp_min</th>\n",
       "      <th>temp_max</th>\n",
       "      <th>precipitation</th>\n",
       "      <th>wind_speed</th>\n",
       "      <th>hour</th>\n",
       "      <th>dayofweek</th>\n",
       "      <th>is_weekend</th>\n",
       "      <th>month</th>\n",
       "      <th>usage_lag_1</th>\n",
       "      <th>usage_lag_4</th>\n",
       "      <th>usage_lag_96</th>\n",
       "      <th>usage_roll_mean_4</th>\n",
       "      <th>usage_roll_sum_96</th>\n",
       "    </tr>\n",
       "  </thead>\n",
       "  <tbody>\n",
       "    <tr>\n",
       "      <th>0</th>\n",
       "      <td>2025-05-29 23:35:52.423050</td>\n",
       "      <td>1</td>\n",
       "      <td>Air Conditioner</td>\n",
       "      <td>0.874</td>\n",
       "      <td>101</td>\n",
       "      <td>2025-05-29</td>\n",
       "      <td>33.5</td>\n",
       "      <td>29.4</td>\n",
       "      <td>38.7</td>\n",
       "      <td>0.0</td>\n",
       "      <td>6.5</td>\n",
       "      <td>23</td>\n",
       "      <td>3</td>\n",
       "      <td>False</td>\n",
       "      <td>5</td>\n",
       "      <td>NaN</td>\n",
       "      <td>NaN</td>\n",
       "      <td>NaN</td>\n",
       "      <td>0.874</td>\n",
       "      <td>0.874</td>\n",
       "    </tr>\n",
       "    <tr>\n",
       "      <th>1</th>\n",
       "      <td>2025-05-29 23:35:52.423050</td>\n",
       "      <td>3</td>\n",
       "      <td>Refrigerator</td>\n",
       "      <td>0.079</td>\n",
       "      <td>104</td>\n",
       "      <td>2025-05-29</td>\n",
       "      <td>33.5</td>\n",
       "      <td>29.4</td>\n",
       "      <td>38.7</td>\n",
       "      <td>0.0</td>\n",
       "      <td>6.5</td>\n",
       "      <td>23</td>\n",
       "      <td>3</td>\n",
       "      <td>False</td>\n",
       "      <td>5</td>\n",
       "      <td>NaN</td>\n",
       "      <td>NaN</td>\n",
       "      <td>NaN</td>\n",
       "      <td>0.079</td>\n",
       "      <td>0.079</td>\n",
       "    </tr>\n",
       "    <tr>\n",
       "      <th>2</th>\n",
       "      <td>2025-05-29 23:35:52.423050</td>\n",
       "      <td>1</td>\n",
       "      <td>Air Conditioner</td>\n",
       "      <td>0.739</td>\n",
       "      <td>103</td>\n",
       "      <td>2025-05-29</td>\n",
       "      <td>33.5</td>\n",
       "      <td>29.4</td>\n",
       "      <td>38.7</td>\n",
       "      <td>0.0</td>\n",
       "      <td>6.5</td>\n",
       "      <td>23</td>\n",
       "      <td>3</td>\n",
       "      <td>False</td>\n",
       "      <td>5</td>\n",
       "      <td>NaN</td>\n",
       "      <td>NaN</td>\n",
       "      <td>NaN</td>\n",
       "      <td>0.739</td>\n",
       "      <td>0.739</td>\n",
       "    </tr>\n",
       "    <tr>\n",
       "      <th>3</th>\n",
       "      <td>2025-05-29 23:35:52.423050</td>\n",
       "      <td>3</td>\n",
       "      <td>Refrigerator</td>\n",
       "      <td>0.062</td>\n",
       "      <td>102</td>\n",
       "      <td>2025-05-29</td>\n",
       "      <td>33.5</td>\n",
       "      <td>29.4</td>\n",
       "      <td>38.7</td>\n",
       "      <td>0.0</td>\n",
       "      <td>6.5</td>\n",
       "      <td>23</td>\n",
       "      <td>3</td>\n",
       "      <td>False</td>\n",
       "      <td>5</td>\n",
       "      <td>NaN</td>\n",
       "      <td>NaN</td>\n",
       "      <td>NaN</td>\n",
       "      <td>0.062</td>\n",
       "      <td>0.062</td>\n",
       "    </tr>\n",
       "    <tr>\n",
       "      <th>4</th>\n",
       "      <td>2025-05-29 23:35:52.423050</td>\n",
       "      <td>1</td>\n",
       "      <td>Air Conditioner</td>\n",
       "      <td>0.775</td>\n",
       "      <td>105</td>\n",
       "      <td>2025-05-29</td>\n",
       "      <td>33.5</td>\n",
       "      <td>29.4</td>\n",
       "      <td>38.7</td>\n",
       "      <td>0.0</td>\n",
       "      <td>6.5</td>\n",
       "      <td>23</td>\n",
       "      <td>3</td>\n",
       "      <td>False</td>\n",
       "      <td>5</td>\n",
       "      <td>NaN</td>\n",
       "      <td>NaN</td>\n",
       "      <td>NaN</td>\n",
       "      <td>0.775</td>\n",
       "      <td>0.775</td>\n",
       "    </tr>\n",
       "    <tr>\n",
       "      <th>5</th>\n",
       "      <td>2025-05-29 23:35:52.423050</td>\n",
       "      <td>2</td>\n",
       "      <td>Washing Machine</td>\n",
       "      <td>0.000</td>\n",
       "      <td>105</td>\n",
       "      <td>2025-05-29</td>\n",
       "      <td>33.5</td>\n",
       "      <td>29.4</td>\n",
       "      <td>38.7</td>\n",
       "      <td>0.0</td>\n",
       "      <td>6.5</td>\n",
       "      <td>23</td>\n",
       "      <td>3</td>\n",
       "      <td>False</td>\n",
       "      <td>5</td>\n",
       "      <td>NaN</td>\n",
       "      <td>NaN</td>\n",
       "      <td>NaN</td>\n",
       "      <td>0.000</td>\n",
       "      <td>0.000</td>\n",
       "    </tr>\n",
       "    <tr>\n",
       "      <th>6</th>\n",
       "      <td>2025-05-29 23:35:52.423050</td>\n",
       "      <td>2</td>\n",
       "      <td>Washing Machine</td>\n",
       "      <td>0.434</td>\n",
       "      <td>102</td>\n",
       "      <td>2025-05-29</td>\n",
       "      <td>33.5</td>\n",
       "      <td>29.4</td>\n",
       "      <td>38.7</td>\n",
       "      <td>0.0</td>\n",
       "      <td>6.5</td>\n",
       "      <td>23</td>\n",
       "      <td>3</td>\n",
       "      <td>False</td>\n",
       "      <td>5</td>\n",
       "      <td>NaN</td>\n",
       "      <td>NaN</td>\n",
       "      <td>NaN</td>\n",
       "      <td>0.434</td>\n",
       "      <td>0.434</td>\n",
       "    </tr>\n",
       "    <tr>\n",
       "      <th>7</th>\n",
       "      <td>2025-05-29 23:35:52.423050</td>\n",
       "      <td>2</td>\n",
       "      <td>Washing Machine</td>\n",
       "      <td>0.000</td>\n",
       "      <td>103</td>\n",
       "      <td>2025-05-29</td>\n",
       "      <td>33.5</td>\n",
       "      <td>29.4</td>\n",
       "      <td>38.7</td>\n",
       "      <td>0.0</td>\n",
       "      <td>6.5</td>\n",
       "      <td>23</td>\n",
       "      <td>3</td>\n",
       "      <td>False</td>\n",
       "      <td>5</td>\n",
       "      <td>NaN</td>\n",
       "      <td>NaN</td>\n",
       "      <td>NaN</td>\n",
       "      <td>0.000</td>\n",
       "      <td>0.000</td>\n",
       "    </tr>\n",
       "    <tr>\n",
       "      <th>8</th>\n",
       "      <td>2025-05-29 23:35:52.423050</td>\n",
       "      <td>2</td>\n",
       "      <td>Washing Machine</td>\n",
       "      <td>0.000</td>\n",
       "      <td>101</td>\n",
       "      <td>2025-05-29</td>\n",
       "      <td>33.5</td>\n",
       "      <td>29.4</td>\n",
       "      <td>38.7</td>\n",
       "      <td>0.0</td>\n",
       "      <td>6.5</td>\n",
       "      <td>23</td>\n",
       "      <td>3</td>\n",
       "      <td>False</td>\n",
       "      <td>5</td>\n",
       "      <td>NaN</td>\n",
       "      <td>NaN</td>\n",
       "      <td>NaN</td>\n",
       "      <td>0.000</td>\n",
       "      <td>0.000</td>\n",
       "    </tr>\n",
       "    <tr>\n",
       "      <th>9</th>\n",
       "      <td>2025-05-29 23:35:52.423050</td>\n",
       "      <td>3</td>\n",
       "      <td>Refrigerator</td>\n",
       "      <td>0.070</td>\n",
       "      <td>101</td>\n",
       "      <td>2025-05-29</td>\n",
       "      <td>33.5</td>\n",
       "      <td>29.4</td>\n",
       "      <td>38.7</td>\n",
       "      <td>0.0</td>\n",
       "      <td>6.5</td>\n",
       "      <td>23</td>\n",
       "      <td>3</td>\n",
       "      <td>False</td>\n",
       "      <td>5</td>\n",
       "      <td>NaN</td>\n",
       "      <td>NaN</td>\n",
       "      <td>NaN</td>\n",
       "      <td>0.070</td>\n",
       "      <td>0.070</td>\n",
       "    </tr>\n",
       "  </tbody>\n",
       "</table>\n",
       "</div>"
      ],
      "text/plain": [
       "                   timestamp  appliance_id   appliance_name  usage  user_id  \\\n",
       "0 2025-05-29 23:35:52.423050             1  Air Conditioner  0.874      101   \n",
       "1 2025-05-29 23:35:52.423050             3     Refrigerator  0.079      104   \n",
       "2 2025-05-29 23:35:52.423050             1  Air Conditioner  0.739      103   \n",
       "3 2025-05-29 23:35:52.423050             3     Refrigerator  0.062      102   \n",
       "4 2025-05-29 23:35:52.423050             1  Air Conditioner  0.775      105   \n",
       "5 2025-05-29 23:35:52.423050             2  Washing Machine  0.000      105   \n",
       "6 2025-05-29 23:35:52.423050             2  Washing Machine  0.434      102   \n",
       "7 2025-05-29 23:35:52.423050             2  Washing Machine  0.000      103   \n",
       "8 2025-05-29 23:35:52.423050             2  Washing Machine  0.000      101   \n",
       "9 2025-05-29 23:35:52.423050             3     Refrigerator  0.070      101   \n",
       "\n",
       "         date  temp  temp_min  temp_max  precipitation  wind_speed  hour  \\\n",
       "0  2025-05-29  33.5      29.4      38.7            0.0         6.5    23   \n",
       "1  2025-05-29  33.5      29.4      38.7            0.0         6.5    23   \n",
       "2  2025-05-29  33.5      29.4      38.7            0.0         6.5    23   \n",
       "3  2025-05-29  33.5      29.4      38.7            0.0         6.5    23   \n",
       "4  2025-05-29  33.5      29.4      38.7            0.0         6.5    23   \n",
       "5  2025-05-29  33.5      29.4      38.7            0.0         6.5    23   \n",
       "6  2025-05-29  33.5      29.4      38.7            0.0         6.5    23   \n",
       "7  2025-05-29  33.5      29.4      38.7            0.0         6.5    23   \n",
       "8  2025-05-29  33.5      29.4      38.7            0.0         6.5    23   \n",
       "9  2025-05-29  33.5      29.4      38.7            0.0         6.5    23   \n",
       "\n",
       "   dayofweek  is_weekend  month  usage_lag_1  usage_lag_4  usage_lag_96  \\\n",
       "0          3       False      5          NaN          NaN           NaN   \n",
       "1          3       False      5          NaN          NaN           NaN   \n",
       "2          3       False      5          NaN          NaN           NaN   \n",
       "3          3       False      5          NaN          NaN           NaN   \n",
       "4          3       False      5          NaN          NaN           NaN   \n",
       "5          3       False      5          NaN          NaN           NaN   \n",
       "6          3       False      5          NaN          NaN           NaN   \n",
       "7          3       False      5          NaN          NaN           NaN   \n",
       "8          3       False      5          NaN          NaN           NaN   \n",
       "9          3       False      5          NaN          NaN           NaN   \n",
       "\n",
       "   usage_roll_mean_4  usage_roll_sum_96  \n",
       "0              0.874              0.874  \n",
       "1              0.079              0.079  \n",
       "2              0.739              0.739  \n",
       "3              0.062              0.062  \n",
       "4              0.775              0.775  \n",
       "5              0.000              0.000  \n",
       "6              0.434              0.434  \n",
       "7              0.000              0.000  \n",
       "8              0.000              0.000  \n",
       "9              0.070              0.070  "
      ]
     },
     "execution_count": 126,
     "metadata": {},
     "output_type": "execute_result"
    }
   ],
   "source": [
    "df['usage_roll_mean_4'] = df.groupby(['appliance_id', 'user_id'])['usage'].transform(lambda x: x.rolling(window=4, min_periods=1).mean())\n",
    "df['usage_roll_sum_96'] = df.groupby(['appliance_id', 'user_id'])['usage'].transform(lambda x: x.rolling(window=96, min_periods=1).sum())\n",
    "df.head(10)"
   ]
  },
  {
   "cell_type": "code",
   "execution_count": 127,
   "metadata": {},
   "outputs": [
    {
     "name": "stdout",
     "output_type": "stream",
     "text": [
      "Feature-enhanced data saved to ../data/processed/iot_logs_features.csv\n"
     ]
    }
   ],
   "source": [
    "df.to_csv('../data/processed/iot_logs_features.csv', index=False)\n",
    "print('Feature-enhanced data saved to ../data/processed/iot_logs_features.csv')"
   ]
  },
  {
   "cell_type": "code",
   "execution_count": 128,
   "metadata": {},
   "outputs": [
    {
     "name": "stdout",
     "output_type": "stream",
     "text": [
      "Feature-enhanced data saved to ../data/processed/iot_logs_features.csv\n"
     ]
    }
   ],
   "source": [
    "df.to_csv('../data/processed/iot_logs_features.csv', index=False)\n",
    "print('Feature-enhanced data saved to ../data/processed/iot_logs_features.csv')"
   ]
  },
  {
   "cell_type": "code",
   "execution_count": 129,
   "metadata": {},
   "outputs": [
    {
     "name": "stdout",
     "output_type": "stream",
     "text": [
      "Feature-enhanced data saved to ../data/processed/iot_logs_features.csv\n"
     ]
    }
   ],
   "source": [
    "df.to_csv('../data/processed/iot_logs_features.csv', index=False)\n",
    "print('Feature-enhanced data saved to ../data/processed/iot_logs_features.csv')"
   ]
  },
  {
   "cell_type": "code",
   "execution_count": 130,
   "metadata": {},
   "outputs": [
    {
     "name": "stdout",
     "output_type": "stream",
     "text": [
      "Feature-enhanced data saved to ../data/processed/iot_logs_features.csv\n"
     ]
    }
   ],
   "source": [
    "df.to_csv('../data/processed/iot_logs_features.csv', index=False)\n",
    "print('Feature-enhanced data saved to ../data/processed/iot_logs_features.csv')"
   ]
  },
  {
   "cell_type": "code",
   "execution_count": 131,
   "metadata": {},
   "outputs": [
    {
     "name": "stdout",
     "output_type": "stream",
     "text": [
      "Feature-enhanced data saved to ../data/processed/iot_logs_features.csv\n"
     ]
    }
   ],
   "source": [
    "df.to_csv('../data/processed/iot_logs_features.csv', index=False)\n",
    "print('Feature-enhanced data saved to ../data/processed/iot_logs_features.csv')"
   ]
  },
  {
   "cell_type": "code",
   "execution_count": 132,
   "metadata": {},
   "outputs": [
    {
     "name": "stdout",
     "output_type": "stream",
     "text": [
      "Feature-enhanced data saved to ../data/processed/iot_logs_features.csv\n"
     ]
    }
   ],
   "source": [
    "df.to_csv('../data/processed/iot_logs_features.csv', index=False)\n",
    "print('Feature-enhanced data saved to ../data/processed/iot_logs_features.csv')"
   ]
  },
  {
   "cell_type": "code",
   "execution_count": 133,
   "metadata": {},
   "outputs": [
    {
     "name": "stdout",
     "output_type": "stream",
     "text": [
      "Feature-enhanced data saved to ../data/processed/iot_logs_features.csv\n"
     ]
    }
   ],
   "source": [
    "df.to_csv('../data/processed/iot_logs_features.csv', index=False)\n",
    "print('Feature-enhanced data saved to ../data/processed/iot_logs_features.csv')"
   ]
  },
  {
   "cell_type": "code",
   "execution_count": 134,
   "metadata": {},
   "outputs": [
    {
     "name": "stdout",
     "output_type": "stream",
     "text": [
      "Feature-enhanced data saved to ../data/processed/iot_logs_features.csv\n"
     ]
    }
   ],
   "source": [
    "df.to_csv('../data/processed/iot_logs_features.csv', index=False)\n",
    "print('Feature-enhanced data saved to ../data/processed/iot_logs_features.csv')"
   ]
  },
  {
   "cell_type": "code",
   "execution_count": 135,
   "metadata": {},
   "outputs": [
    {
     "name": "stdout",
     "output_type": "stream",
     "text": [
      "Feature-enhanced data saved to ../data/processed/iot_logs_features.csv\n"
     ]
    }
   ],
   "source": [
    "df.to_csv('../data/processed/iot_logs_features.csv', index=False)\n",
    "print('Feature-enhanced data saved to ../data/processed/iot_logs_features.csv')"
   ]
  },
  {
   "cell_type": "code",
   "execution_count": 136,
   "metadata": {},
   "outputs": [
    {
     "name": "stdout",
     "output_type": "stream",
     "text": [
      "Feature-enhanced data saved to ../data/processed/iot_logs_features.csv\n"
     ]
    }
   ],
   "source": [
    "df.to_csv('../data/processed/iot_logs_features.csv', index=False)\n",
    "print('Feature-enhanced data saved to ../data/processed/iot_logs_features.csv')"
   ]
  },
  {
   "cell_type": "code",
   "execution_count": 137,
   "metadata": {},
   "outputs": [
    {
     "name": "stdout",
     "output_type": "stream",
     "text": [
      "Feature-enhanced data saved to ../data/processed/iot_logs_features.csv\n"
     ]
    }
   ],
   "source": [
    "df.to_csv('../data/processed/iot_logs_features.csv', index=False)\n",
    "print('Feature-enhanced data saved to ../data/processed/iot_logs_features.csv')"
   ]
  },
  {
   "cell_type": "code",
   "execution_count": 138,
   "metadata": {},
   "outputs": [
    {
     "name": "stdout",
     "output_type": "stream",
     "text": [
      "Feature-enhanced data saved to ../data/processed/iot_logs_features.csv\n"
     ]
    }
   ],
   "source": [
    "df.to_csv('../data/processed/iot_logs_features.csv', index=False)\n",
    "print('Feature-enhanced data saved to ../data/processed/iot_logs_features.csv')"
   ]
  },
  {
   "cell_type": "code",
   "execution_count": 139,
   "metadata": {},
   "outputs": [
    {
     "name": "stdout",
     "output_type": "stream",
     "text": [
      "Feature-enhanced data saved to ../data/processed/iot_logs_features.csv\n"
     ]
    }
   ],
   "source": [
    "df.to_csv('../data/processed/iot_logs_features.csv', index=False)\n",
    "print('Feature-enhanced data saved to ../data/processed/iot_logs_features.csv')"
   ]
  },
  {
   "cell_type": "code",
   "execution_count": 140,
   "metadata": {},
   "outputs": [
    {
     "name": "stdout",
     "output_type": "stream",
     "text": [
      "Feature-enhanced data saved to ../data/processed/iot_logs_features.csv\n"
     ]
    }
   ],
   "source": [
    "df.to_csv('../data/processed/iot_logs_features.csv', index=False)\n",
    "print('Feature-enhanced data saved to ../data/processed/iot_logs_features.csv')"
   ]
  },
  {
   "cell_type": "code",
   "execution_count": 141,
   "metadata": {},
   "outputs": [
    {
     "name": "stdout",
     "output_type": "stream",
     "text": [
      "Feature-enhanced data saved to ../data/processed/iot_logs_features.csv\n"
     ]
    }
   ],
   "source": [
    "df.to_csv('../data/processed/iot_logs_features.csv', index=False)\n",
    "print('Feature-enhanced data saved to ../data/processed/iot_logs_features.csv')"
   ]
  },
  {
   "cell_type": "code",
   "execution_count": 142,
   "metadata": {},
   "outputs": [
    {
     "name": "stdout",
     "output_type": "stream",
     "text": [
      "Feature-enhanced data saved to ../data/processed/iot_logs_features.csv\n"
     ]
    }
   ],
   "source": [
    "df.to_csv('../data/processed/iot_logs_features.csv', index=False)\n",
    "print('Feature-enhanced data saved to ../data/processed/iot_logs_features.csv')"
   ]
  },
  {
   "cell_type": "code",
   "execution_count": 143,
   "metadata": {},
   "outputs": [
    {
     "name": "stdout",
     "output_type": "stream",
     "text": [
      "Feature-enhanced data saved to ../data/processed/iot_logs_features.csv\n"
     ]
    }
   ],
   "source": [
    "df.to_csv('../data/processed/iot_logs_features.csv', index=False)\n",
    "print('Feature-enhanced data saved to ../data/processed/iot_logs_features.csv')"
   ]
  },
  {
   "cell_type": "code",
   "execution_count": 144,
   "metadata": {},
   "outputs": [
    {
     "name": "stdout",
     "output_type": "stream",
     "text": [
      "Feature-enhanced data saved to ../data/processed/iot_logs_features.csv\n"
     ]
    }
   ],
   "source": [
    "df.to_csv('../data/processed/iot_logs_features.csv', index=False)\n",
    "print('Feature-enhanced data saved to ../data/processed/iot_logs_features.csv')"
   ]
  },
  {
   "cell_type": "code",
   "execution_count": 145,
   "metadata": {},
   "outputs": [
    {
     "name": "stdout",
     "output_type": "stream",
     "text": [
      "Feature-enhanced data saved to ../data/processed/iot_logs_features.csv\n"
     ]
    }
   ],
   "source": [
    "df.to_csv('../data/processed/iot_logs_features.csv', index=False)\n",
    "print('Feature-enhanced data saved to ../data/processed/iot_logs_features.csv')"
   ]
  },
  {
   "cell_type": "markdown",
   "metadata": {},
   "source": [
    "## Save Feature-Enhanced Data"
   ]
  },
  {
   "cell_type": "code",
   "execution_count": 146,
   "metadata": {},
   "outputs": [
    {
     "name": "stdout",
     "output_type": "stream",
     "text": [
      "Feature-enhanced data saved to ../data/processed/iot_logs_features.csv\n"
     ]
    }
   ],
   "source": [
    "df.to_csv('../data/processed/iot_logs_features.csv', index=False)\n",
    "print('Feature-enhanced data saved to ../data/processed/iot_logs_features.csv')"
   ]
  },
  {
   "cell_type": "code",
   "execution_count": 147,
   "metadata": {},
   "outputs": [
    {
     "name": "stdout",
     "output_type": "stream",
     "text": [
      "Feature-enhanced data saved to ../data/processed/iot_logs_features.csv\n"
     ]
    }
   ],
   "source": [
    "df.to_csv('../data/processed/iot_logs_features.csv', index=False)\n",
    "print('Feature-enhanced data saved to ../data/processed/iot_logs_features.csv')"
   ]
  },
  {
   "cell_type": "code",
   "execution_count": 148,
   "metadata": {},
   "outputs": [
    {
     "name": "stdout",
     "output_type": "stream",
     "text": [
      "Feature-enhanced data saved to ../data/processed/iot_logs_features.csv\n"
     ]
    }
   ],
   "source": [
    "df.to_csv('../data/processed/iot_logs_features.csv', index=False)\n",
    "print('Feature-enhanced data saved to ../data/processed/iot_logs_features.csv')"
   ]
  },
  {
   "cell_type": "code",
   "execution_count": 149,
   "metadata": {},
   "outputs": [
    {
     "name": "stdout",
     "output_type": "stream",
     "text": [
      "Feature-enhanced data saved to ../data/processed/iot_logs_features.csv\n"
     ]
    }
   ],
   "source": [
    "df.to_csv('../data/processed/iot_logs_features.csv', index=False)\n",
    "print('Feature-enhanced data saved to ../data/processed/iot_logs_features.csv')"
   ]
  }
 ],
 "metadata": {
  "kernelspec": {
   "display_name": "Python 3",
   "language": "python",
   "name": "python3"
  },
  "language_info": {
   "codemirror_mode": {
    "name": "ipython",
    "version": 3
   },
   "file_extension": ".py",
   "mimetype": "text/x-python",
   "name": "python",
   "nbconvert_exporter": "python",
   "pygments_lexer": "ipython3",
   "version": "3.12.10"
  }
 },
 "nbformat": 4,
 "nbformat_minor": 2
}
